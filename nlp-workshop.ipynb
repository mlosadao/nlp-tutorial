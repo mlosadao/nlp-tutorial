{
 "cells": [
  {
   "cell_type": "markdown",
   "metadata": {},
   "source": [
    "# NLP workshop"
   ]
  },
  {
   "cell_type": "code",
   "execution_count": null,
   "metadata": {},
   "outputs": [],
   "source": [
    "!python -m spacy download es_core_news_md"
   ]
  },
  {
   "cell_type": "code",
   "execution_count": 22,
   "metadata": {},
   "outputs": [],
   "source": [
    "# Importing required libraries for web scrapping\n",
    "\n",
    "import time\n",
    "import datetime\n",
    "\n",
    "from bs4 import BeautifulSoup\n",
    "from selenium import webdriver\n",
    "\n",
    "from pymongo import MongoClient"
   ]
  },
  {
   "cell_type": "code",
   "execution_count": 23,
   "metadata": {},
   "outputs": [],
   "source": [
    "import nltk\n",
    "from nltk.tokenize import sent_tokenize, word_tokenize\n",
    "from nltk.probability import FreqDist\n",
    "from nltk.corpus import stopwords\n",
    "\n",
    "from wordcloud import WordCloud\n",
    "\n",
    "import spacy\n",
    "from spacy import displacy\n",
    "import en_core_web_sm\n",
    "\n",
    "import matplotlib.pyplot as plt\n",
    "%matplotlib inline"
   ]
  },
  {
   "cell_type": "code",
   "execution_count": 52,
   "metadata": {},
   "outputs": [],
   "source": [
    "import es_core_news_md\n",
    "from nltk.tag import StanfordPOSTagger\n",
    "\n",
    "import os"
   ]
  },
  {
   "cell_type": "code",
   "execution_count": 53,
   "metadata": {},
   "outputs": [],
   "source": [
    "jar = \"./pos-tagger/stanford-postagger/stanford-postagger-4.2.0.jar\"\n",
    "model = \"./pos-tagger/stanford-postagger/models/spanish-ud.tagger\"\n",
    "os.environ[\"JAVAHOME\"] = \"/usr/bin/java\""
   ]
  },
  {
   "cell_type": "code",
   "execution_count": 24,
   "metadata": {},
   "outputs": [],
   "source": [
    "# Creating a connection to MongoDB\n",
    "client = MongoClient('localhost', 27017)\n",
    "db = client['news-workshop']\n",
    "collection = db['elespectador-workshop']"
   ]
  },
  {
   "cell_type": "code",
   "execution_count": 25,
   "metadata": {},
   "outputs": [],
   "source": [
    "# Base URL of the site to be analyzed\n",
    "SITE_URL = 'https://www.elespectador.com'"
   ]
  },
  {
   "cell_type": "code",
   "execution_count": 26,
   "metadata": {},
   "outputs": [],
   "source": [
    "# Firefox web driver path\n",
    "# Download the driver for you S.O. here: https://github.com/mozilla/geckodriver/releases\n",
    "DRIVER_PATH = './geckodriver.exe'"
   ]
  },
  {
   "cell_type": "code",
   "execution_count": 42,
   "metadata": {},
   "outputs": [
    {
     "name": "stderr",
     "output_type": "stream",
     "text": [
      "C:\\Users\\BORISL~1\\AppData\\Local\\Temp/ipykernel_2424/1910320475.py:2: DeprecationWarning: executable_path has been deprecated, please pass in a Service object\n",
      "  browser = webdriver.Firefox(executable_path = DRIVER_PATH)\n"
     ]
    }
   ],
   "source": [
    "# Creating a new firefox window\n",
    "browser = webdriver.Firefox(executable_path = DRIVER_PATH)"
   ]
  },
  {
   "cell_type": "code",
   "execution_count": 43,
   "metadata": {},
   "outputs": [],
   "source": [
    "def make_request(browser, relative_path):\n",
    "    # Making the request and rendering the browser\n",
    "    browser.get(SITE_URL + relative_path)\n",
    "    \n",
    "    # Simulating vertical scrolling for handling lazy load\n",
    "    check_height = browser.execute_script('return document.body.scrollHeight;')\n",
    "    while True:\n",
    "        browser.execute_script('window.scrollTo(0, document.body.scrollHeight);')\n",
    "        time.sleep(3)\n",
    "        height = browser.execute_script('return document.body.scrollHeight;')\n",
    "        if height == check_height: \n",
    "            break \n",
    "        check_height = height\n",
    "    \n",
    "    # Getting HTML content and passing it to BeautifulSoup for scraping analysis\n",
    "    return BeautifulSoup(browser.page_source, 'html.parser')"
   ]
  },
  {
   "cell_type": "code",
   "execution_count": 44,
   "metadata": {},
   "outputs": [],
   "source": [
    "categories = ['/archivo/politica/elecciones-colombia-2022/', '/archivo/tecnologia/', '/archivo/ambiente/', '/archivo/salud/', '/archivo/educacion/' ]\n",
    "\n",
    "paginator = 1\n",
    "\n",
    "news = []"
   ]
  },
  {
   "cell_type": "code",
   "execution_count": 48,
   "metadata": {},
   "outputs": [],
   "source": [
    "for category in categories:\n",
    "    # Getting HTML content for a particular news listing page\n",
    "    wand = True\n",
    "    \n",
    "    while wand:\n",
    "        page = \"{}{}/\".format(category, paginator)\n",
    "        soup = make_request(browser, page)\n",
    "    \n",
    "        # Finding the section where news are contained \n",
    "        layout = soup.find(class_ = 'Layout-flexAds')\n",
    "    \n",
    "        # Getting blocks from layout\n",
    "        blocks = layout.find_all(class_ = 'Container Block', recursive = True)\n",
    "    \n",
    "        # Finding and concatenating news cards\n",
    "        cards = blocks[0].find_all(class_ = 'Card_rowCardLeft') + blocks[1].find_all(class_ = 'Card_rowCardLeft')\n",
    "        \n",
    "        for card in cards[:2]:\n",
    "            date = card.find(class_ = 'Card-Datetime Datetime').get_text()\n",
    "            \n",
    "            x = datetime.datetime.now()- datetime.timedelta(weeks=2)\n",
    "            months = ['feb.', 'mar.', 'apr.']\n",
    "            partes = date.split(\" \")\n",
    "            if (partes[1]=='abr.'):\n",
    "                partes[1] = 'apr.'\n",
    "            elif(partes[1] not in months):\n",
    "                partes[1] = 'apr.'\n",
    "                partes[0] = datetime.datetime.now().day\n",
    "                partes[2] = datetime.datetime.now().year\n",
    "            fecha = \"{}-{}-{}\".format(partes[0], partes[1].replace(\".\",\"\"), partes[2])\n",
    "            date = datetime.datetime.strptime(fecha, '%d-%b-%Y')\n",
    "            if date<x:\n",
    "                wand = False\n",
    "            \n",
    "            # Getting HTML content for each news page\n",
    "            r_path = card.find('h2', class_ = 'Card-Title').find('a')['href']\n",
    "            soup = make_request(browser, r_path)\n",
    "            \n",
    "            author = \"\"\n",
    "            paragraphs = soup.find_all(class_ = 'font--secondary')\n",
    "            \n",
    "            if soup.find(class_ = 'ACredit-Author').find('a'):\n",
    "                author = soup.find(class_ = 'ACredit-Author').find('a').get_text()\n",
    "            else:\n",
    "                author = soup.find(class_ = 'ACredit-Author').get_text()\n",
    "            \n",
    "            categ = category.split(\"/\")[2]\n",
    "            \n",
    "            news.append({\n",
    "                'title': card.find('h2', class_ = 'Card-Title').find('a').get_text(),\n",
    "                'relative_path': r_path,\n",
    "                'datetime' : date,\n",
    "                'author' : author,\n",
    "                'summary' : soup.find(class_ = 'ArticleHeader-Hook').find('div').get_text(),\n",
    "                'full_text' : ' '.join([p.get_text() for p in paragraphs]),\n",
    "                'category' : categ,\n",
    "            })\n",
    "        \n",
    "        paginator+=1\n",
    "    \n",
    "    paginator = 1\n",
    "            "
   ]
  },
  {
   "cell_type": "code",
   "execution_count": null,
   "metadata": {},
   "outputs": [],
   "source": [
    "news"
   ]
  },
  {
   "cell_type": "code",
   "execution_count": 49,
   "metadata": {},
   "outputs": [
    {
     "data": {
      "text/plain": [
       "<pymongo.results.InsertManyResult at 0x1e8c5d26670>"
      ]
     },
     "execution_count": 49,
     "metadata": {},
     "output_type": "execute_result"
    }
   ],
   "source": [
    "# Storing extracted information for further analysis\n",
    "collection.insert_many(news)"
   ]
  },
  {
   "cell_type": "raw",
   "metadata": {},
   "source": [
    "We start the NLP process"
   ]
  },
  {
   "cell_type": "code",
   "execution_count": 54,
   "metadata": {},
   "outputs": [],
   "source": [
    "nlp = es_core_news_md.load()"
   ]
  },
  {
   "cell_type": "code",
   "execution_count": null,
   "metadata": {},
   "outputs": [],
   "source": [
    "# Sentence tokenization\n",
    "sent_tokenize(text)[:10]"
   ]
  },
  {
   "cell_type": "code",
   "execution_count": null,
   "metadata": {},
   "outputs": [],
   "source": [
    "# Word tokenization\n",
    "words = word_tokenize(text)"
   ]
  },
  {
   "cell_type": "code",
   "execution_count": null,
   "metadata": {},
   "outputs": [],
   "source": [
    "words[:10]"
   ]
  },
  {
   "cell_type": "code",
   "execution_count": null,
   "metadata": {},
   "outputs": [],
   "source": [
    "# Words distribution\n",
    "frec_dist = FreqDist(words)"
   ]
  },
  {
   "cell_type": "code",
   "execution_count": null,
   "metadata": {},
   "outputs": [],
   "source": [
    "# Printing the most common words\n",
    "frec_dist.most_common(10)"
   ]
  },
  {
   "cell_type": "code",
   "execution_count": null,
   "metadata": {},
   "outputs": [],
   "source": [
    "# Stop words\n",
    "# Stop words are basically a set of commonly used words in any language, not just English.\n",
    "# The reason why stop words are critical to many applications is that, if we remove the words that are very commonly used in a given language, we can focus on the important words instead.\n",
    "\n",
    "stop_words = set(stopwords.words(\"english\"))"
   ]
  },
  {
   "cell_type": "code",
   "execution_count": null,
   "metadata": {},
   "outputs": [],
   "source": [
    "# Removing stop words\n",
    "filtered_words = []\n",
    "\n",
    "for w in words:\n",
    "    if w.lower() not in stop_words:\n",
    "        filtered_words.append(w)"
   ]
  },
  {
   "cell_type": "code",
   "execution_count": null,
   "metadata": {},
   "outputs": [],
   "source": [
    "# Words distribution for text without stopwords\n",
    "frec_dist_filtered = FreqDist(filtered_words)"
   ]
  },
  {
   "cell_type": "code",
   "execution_count": null,
   "metadata": {},
   "outputs": [],
   "source": [
    "# Printing the most common words\n",
    "frec_dist_filtered.most_common(10)"
   ]
  },
  {
   "cell_type": "code",
   "execution_count": null,
   "metadata": {},
   "outputs": [],
   "source": [
    "# Plotting a bar char for frecuencies\n",
    "n = 10\n",
    "\n",
    "plt.figure(figsize = (15, 8))\n",
    "plt.barh([ w[0] for w in frec_dist_filtered.most_common(n) ], [ w[1] for w in frec_dist_filtered.most_common(n) ])\n",
    "plt.gca().invert_yaxis()"
   ]
  },
  {
   "cell_type": "code",
   "execution_count": null,
   "metadata": {},
   "outputs": [],
   "source": [
    "# Creating the wordcloud\n",
    "# Word size is directly related to frecuency\n",
    "wordcloud = WordCloud(max_font_size = 50, max_words = 100, background_color = \"white\").generate(text)\n",
    "\n",
    "plt.figure(figsize = (10, 10))\n",
    "plt.imshow(wordcloud, interpolation = \"bilinear\")\n",
    "plt.axis(\"off\")\n",
    "plt.show()"
   ]
  },
  {
   "cell_type": "code",
   "execution_count": null,
   "metadata": {},
   "outputs": [],
   "source": [
    "# Creating the wordcloud\n",
    "# Word size is directly related to frecuency\n",
    "wordcloud = WordCloud(max_font_size = 50, max_words = 100, background_color = \"white\").generate(\" \".join(filtered_words))\n",
    "\n",
    "plt.figure(figsize = (10, 10))\n",
    "plt.imshow(wordcloud, interpolation = \"bilinear\")\n",
    "plt.axis(\"off\")\n",
    "plt.show()"
   ]
  },
  {
   "cell_type": "code",
   "execution_count": null,
   "metadata": {},
   "outputs": [],
   "source": [
    "# Part of Speech (PoS)\n",
    "# The meaning of each tag can be found here: https://www.guru99.com/pos-tagging-chunking-nltk.html\n",
    "pos_tags = nltk.pos_tag(filtered_words)"
   ]
  },
  {
   "cell_type": "code",
   "execution_count": null,
   "metadata": {},
   "outputs": [],
   "source": [
    "# Sorting tags\n",
    "pos_tags.sort(key = lambda tup: tup[1])\n",
    "pos_tags"
   ]
  },
  {
   "cell_type": "code",
   "execution_count": null,
   "metadata": {},
   "outputs": [],
   "source": [
    "# Named Entity Recognition (NER)\n",
    "document = nlp(text)\n",
    "displacy.render(document, style = \"ent\")"
   ]
  },
  {
   "cell_type": "code",
   "execution_count": null,
   "metadata": {},
   "outputs": [],
   "source": []
  }
 ],
 "metadata": {
  "kernelspec": {
   "display_name": "Python 3 (ipykernel)",
   "language": "python",
   "name": "python3"
  },
  "language_info": {
   "codemirror_mode": {
    "name": "ipython",
    "version": 3
   },
   "file_extension": ".py",
   "mimetype": "text/x-python",
   "name": "python",
   "nbconvert_exporter": "python",
   "pygments_lexer": "ipython3",
   "version": "3.9.7"
  }
 },
 "nbformat": 4,
 "nbformat_minor": 4
}
