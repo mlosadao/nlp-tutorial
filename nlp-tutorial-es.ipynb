{
 "cells": [
  {
   "cell_type": "markdown",
   "metadata": {},
   "source": [
    "# NLP basic tutorial (spanish)"
   ]
  },
  {
   "cell_type": "code",
   "execution_count": 2,
   "metadata": {},
   "outputs": [
    {
     "name": "stdout",
     "output_type": "stream",
     "text": [
      "Collecting es-core-news-md==3.2.0\n",
      "  Using cached https://github.com/explosion/spacy-models/releases/download/es_core_news_md-3.2.0/es_core_news_md-3.2.0-py3-none-any.whl (43.4 MB)\n",
      "Requirement already satisfied: spacy<3.3.0,>=3.2.0 in c:\\users\\boris leon\\anaconda3\\lib\\site-packages (from es-core-news-md==3.2.0) (3.2.4)\n",
      "Requirement already satisfied: pathy>=0.3.5 in c:\\users\\boris leon\\anaconda3\\lib\\site-packages (from spacy<3.3.0,>=3.2.0->es-core-news-md==3.2.0) (0.6.1)\n",
      "Requirement already satisfied: numpy>=1.15.0 in c:\\users\\boris leon\\anaconda3\\lib\\site-packages (from spacy<3.3.0,>=3.2.0->es-core-news-md==3.2.0) (1.20.3)\n"
     ]
    },
    {
     "name": "stderr",
     "output_type": "stream",
     "text": [
      "WARNING: You are using pip version 21.1.1; however, version 22.0.4 is available.\n",
      "You should consider upgrading via the 'C:\\Users\\Boris Leon\\anaconda3\\python.exe -m pip install --upgrade pip' command.\n"
     ]
    },
    {
     "name": "stdout",
     "output_type": "stream",
     "text": [
      "Requirement already satisfied: requests<3.0.0,>=2.13.0 in c:\\users\\boris leon\\anaconda3\\lib\\site-packages (from spacy<3.3.0,>=3.2.0->es-core-news-md==3.2.0) (2.26.0)\n",
      "Requirement already satisfied: typer<0.5.0,>=0.3.0 in c:\\users\\boris leon\\anaconda3\\lib\\site-packages (from spacy<3.3.0,>=3.2.0->es-core-news-md==3.2.0) (0.4.1)\n",
      "Requirement already satisfied: murmurhash<1.1.0,>=0.28.0 in c:\\users\\boris leon\\anaconda3\\lib\\site-packages (from spacy<3.3.0,>=3.2.0->es-core-news-md==3.2.0) (1.0.6)\n",
      "Requirement already satisfied: setuptools in c:\\users\\boris leon\\anaconda3\\lib\\site-packages (from spacy<3.3.0,>=3.2.0->es-core-news-md==3.2.0) (58.0.4)\n",
      "Requirement already satisfied: pydantic!=1.8,!=1.8.1,<1.9.0,>=1.7.4 in c:\\users\\boris leon\\anaconda3\\lib\\site-packages (from spacy<3.3.0,>=3.2.0->es-core-news-md==3.2.0) (1.8.2)\n",
      "Requirement already satisfied: jinja2 in c:\\users\\boris leon\\anaconda3\\lib\\site-packages (from spacy<3.3.0,>=3.2.0->es-core-news-md==3.2.0) (2.11.3)\n",
      "Requirement already satisfied: langcodes<4.0.0,>=3.2.0 in c:\\users\\boris leon\\anaconda3\\lib\\site-packages (from spacy<3.3.0,>=3.2.0->es-core-news-md==3.2.0) (3.3.0)\n",
      "Requirement already satisfied: tqdm<5.0.0,>=4.38.0 in c:\\users\\boris leon\\anaconda3\\lib\\site-packages (from spacy<3.3.0,>=3.2.0->es-core-news-md==3.2.0) (4.62.3)\n",
      "Requirement already satisfied: cymem<2.1.0,>=2.0.2 in c:\\users\\boris leon\\anaconda3\\lib\\site-packages (from spacy<3.3.0,>=3.2.0->es-core-news-md==3.2.0) (2.0.6)\n",
      "Requirement already satisfied: spacy-loggers<2.0.0,>=1.0.0 in c:\\users\\boris leon\\anaconda3\\lib\\site-packages (from spacy<3.3.0,>=3.2.0->es-core-news-md==3.2.0) (1.0.2)\n",
      "Requirement already satisfied: packaging>=20.0 in c:\\users\\boris leon\\anaconda3\\lib\\site-packages (from spacy<3.3.0,>=3.2.0->es-core-news-md==3.2.0) (21.0)\n",
      "Requirement already satisfied: click<8.1.0 in c:\\users\\boris leon\\anaconda3\\lib\\site-packages (from spacy<3.3.0,>=3.2.0->es-core-news-md==3.2.0) (8.0.3)\n",
      "Requirement already satisfied: wasabi<1.1.0,>=0.8.1 in c:\\users\\boris leon\\anaconda3\\lib\\site-packages (from spacy<3.3.0,>=3.2.0->es-core-news-md==3.2.0) (0.9.1)\n",
      "Requirement already satisfied: srsly<3.0.0,>=2.4.1 in c:\\users\\boris leon\\anaconda3\\lib\\site-packages (from spacy<3.3.0,>=3.2.0->es-core-news-md==3.2.0) (2.4.2)\n",
      "Requirement already satisfied: catalogue<2.1.0,>=2.0.6 in c:\\users\\boris leon\\anaconda3\\lib\\site-packages (from spacy<3.3.0,>=3.2.0->es-core-news-md==3.2.0) (2.0.7)\n",
      "Requirement already satisfied: spacy-legacy<3.1.0,>=3.0.8 in c:\\users\\boris leon\\anaconda3\\lib\\site-packages (from spacy<3.3.0,>=3.2.0->es-core-news-md==3.2.0) (3.0.9)\n",
      "Requirement already satisfied: blis<0.8.0,>=0.4.0 in c:\\users\\boris leon\\anaconda3\\lib\\site-packages (from spacy<3.3.0,>=3.2.0->es-core-news-md==3.2.0) (0.7.7)\n",
      "Requirement already satisfied: thinc<8.1.0,>=8.0.12 in c:\\users\\boris leon\\anaconda3\\lib\\site-packages (from spacy<3.3.0,>=3.2.0->es-core-news-md==3.2.0) (8.0.15)\n",
      "Requirement already satisfied: preshed<3.1.0,>=3.0.2 in c:\\users\\boris leon\\anaconda3\\lib\\site-packages (from spacy<3.3.0,>=3.2.0->es-core-news-md==3.2.0) (3.0.6)\n",
      "Requirement already satisfied: colorama in c:\\users\\boris leon\\anaconda3\\lib\\site-packages (from click<8.1.0->spacy<3.3.0,>=3.2.0->es-core-news-md==3.2.0) (0.4.4)\n",
      "Requirement already satisfied: pyparsing>=2.0.2 in c:\\users\\boris leon\\anaconda3\\lib\\site-packages (from packaging>=20.0->spacy<3.3.0,>=3.2.0->es-core-news-md==3.2.0) (3.0.4)\n",
      "Requirement already satisfied: smart-open<6.0.0,>=5.0.0 in c:\\users\\boris leon\\anaconda3\\lib\\site-packages (from pathy>=0.3.5->spacy<3.3.0,>=3.2.0->es-core-news-md==3.2.0) (5.2.1)\n",
      "Requirement already satisfied: typing-extensions>=3.7.4.3 in c:\\users\\boris leon\\anaconda3\\lib\\site-packages (from pydantic!=1.8,!=1.8.1,<1.9.0,>=1.7.4->spacy<3.3.0,>=3.2.0->es-core-news-md==3.2.0) (3.10.0.2)\n",
      "Requirement already satisfied: charset-normalizer~=2.0.0 in c:\\users\\boris leon\\anaconda3\\lib\\site-packages (from requests<3.0.0,>=2.13.0->spacy<3.3.0,>=3.2.0->es-core-news-md==3.2.0) (2.0.4)\n",
      "Requirement already satisfied: urllib3<1.27,>=1.21.1 in c:\\users\\boris leon\\anaconda3\\lib\\site-packages (from requests<3.0.0,>=2.13.0->spacy<3.3.0,>=3.2.0->es-core-news-md==3.2.0) (1.26.7)\n",
      "Requirement already satisfied: certifi>=2017.4.17 in c:\\users\\boris leon\\anaconda3\\lib\\site-packages (from requests<3.0.0,>=2.13.0->spacy<3.3.0,>=3.2.0->es-core-news-md==3.2.0) (2021.10.8)\n",
      "Requirement already satisfied: idna<4,>=2.5 in c:\\users\\boris leon\\anaconda3\\lib\\site-packages (from requests<3.0.0,>=2.13.0->spacy<3.3.0,>=3.2.0->es-core-news-md==3.2.0) (3.2)\n",
      "Requirement already satisfied: MarkupSafe>=0.23 in c:\\users\\boris leon\\anaconda3\\lib\\site-packages (from jinja2->spacy<3.3.0,>=3.2.0->es-core-news-md==3.2.0) (1.1.1)\n",
      "[+] Download and installation successful\n",
      "You can now load the package via spacy.load('es_core_news_md')\n"
     ]
    }
   ],
   "source": [
    "!python -m spacy download es_core_news_md"
   ]
  },
  {
   "cell_type": "code",
   "execution_count": 3,
   "metadata": {},
   "outputs": [],
   "source": [
    "import os\n",
    "\n",
    "import nltk\n",
    "from nltk.tokenize import sent_tokenize, word_tokenize\n",
    "from nltk.probability import FreqDist\n",
    "from nltk.corpus import stopwords\n",
    "from nltk.tag import StanfordPOSTagger\n",
    "\n",
    "from wordcloud import WordCloud\n",
    "\n",
    "import spacy\n",
    "from spacy import displacy\n",
    "import es_core_news_md\n",
    "\n",
    "from pymongo import MongoClient\n",
    "\n",
    "import matplotlib.pyplot as plt\n",
    "%matplotlib inline"
   ]
  },
  {
   "cell_type": "code",
   "execution_count": 4,
   "metadata": {},
   "outputs": [],
   "source": [
    "jar = \"./pos-tagger/stanford-postagger/stanford-postagger-4.2.0.jar\"\n",
    "model = \"./pos-tagger/stanford-postagger/models/spanish-ud.tagger\"\n",
    "os.environ[\"JAVAHOME\"] = \"/usr/bin/java\""
   ]
  },
  {
   "cell_type": "code",
   "execution_count": 5,
   "metadata": {},
   "outputs": [],
   "source": [
    "nlp = es_core_news_md.load()"
   ]
  },
  {
   "cell_type": "code",
   "execution_count": 7,
   "metadata": {},
   "outputs": [],
   "source": [
    "# Creating a connection to MongoDB\n",
    "client = MongoClient(\"localhost\", 27017)\n",
    "db = client[\"news\"]\n",
    "collection = db[\"elespectador\"]"
   ]
  },
  {
   "cell_type": "code",
   "execution_count": 8,
   "metadata": {},
   "outputs": [],
   "source": [
    "text = []\n",
    "for news in list(collection.find({}, {\"title\": 1, \"summary\": 1, \"full_text\": 1, \"_id\": 0})):\n",
    "    text.append(news[\"title\"])\n",
    "    text.append(news[\"summary\"])\n",
    "    text.append(news[\"full_text\"])"
   ]
  },
  {
   "cell_type": "code",
   "execution_count": 9,
   "metadata": {},
   "outputs": [],
   "source": [
    "text = \" \".join(text)"
   ]
  },
  {
   "cell_type": "code",
   "execution_count": 10,
   "metadata": {},
   "outputs": [
    {
     "data": {
      "text/plain": [
       "'Reforma rural, apertura de macro casos: las peticiones de víctimas en el Congreso Como cada 9 de abril, a las víctimas del conflicto armado en Colombia se les abren los micrófonos del Legislativo para que estas expongan sus preocupaciones y exijan justicia, verdad, reparación y no repetición. Este sábado, en el marco del Día Nacional de la Memoria y Solidaridad con las Víctimas, el Congreso, a la luz de la Ley 1448 de 2011, abro su recinto para que las víctimas fueran las protagonistas de la sesión plenaria, que reunió a senadores y representantes para escuchar los reclamos, preocupaciones y necesidades de las más de ocho millones de personas que han padecido el conflicto armado. El Congreso escuchó desde víctimas de grupos armados ilegales, como las exFarc y paramilitares, así como del Estado y familiares de militares desaparecidos y asesinados. El dolor y la resistencia fueron los testimonios de todas las personas que intervinieron en el pleno del Congreso, quienes aprovecharon para hacer varios llamados al Gobierno Nacional y a los legisladores. Lea: Sobreviviendo con El Tigre.  En primer, las víctimas reconocieron y le hicieron llamados especiales a los 16 representantes electos de las circunscripciones territoriales de paz, una deuda que se tenía con las víctimas desde la firma del Acuerdo de Paz. “Creemos que es una oportunidad valiosa para que nosotros podamos buscar esas alianzas y acercamientos con estos 16 nuevos representantes a la cámara que van a representar los intereses de las víctimas y crear canales para que la implementación siga avanzando”, dijo Odorico Guerra, representante de víctimas de desaparición forzada. Ménderson Mosquera, de la Mesa de Víctimas de Antioquia, fue más directo en los pedidos a los 16 representantes de las curules de paz: adelantar una reforma rural integral, control en las actividades de indemnización administrativa y seguimiento a la tarea del sistema de paz del Acuerdo (Jurisdicción Especial para la Paz, Comisión de la Verdad y Unidad de Búsqueda para Personas dadas por Desaparecidas”. Es más, Karen Manrique, electa por la circunscripción de Arauca, pidió ayuda a sus próximos colegas del Congreso, para que los apoyen en su trabajo legislativo por las dificultades y riesgos de seguridad que vivieron durante campaña y que prevé vivirán una vez se posesionen en el cargo. A los llamados al Congreso en general, Eucaris Salas, coordinadora de la Mesa Nacional de Víctimas, pidió la creación de sanciones para las entidades estatales que no cumplan con la garantía de los derechos de las víctimas, y la gratuidad en la emisión de documentos (registro civil, apostillados, duplicados, entre otros) a la población que se encuentra en algún proceso de reconocimiento o resarcimiento de sus derechos. Más: Cinco hitos en los 10 años de conmemoración a víctimas del conflicto. Las víctimas de violencia sexual, en voz de Mayerli Paredes, exigieron la apertura del macro caso en la JEP de este delito y garantías de seguridad para poder contar su verdad. “Somos el centro de la paz, no desconocemos que tenemos participación, pero está amarrada a una institucionalidad”, dijo a modo de crítica, exigiendo más contundencia en la reparación efectiva de sus derechos. También las víctimas del conflicto pertenecientes a la comunidad LGBTQ+ reclamaron una ley antidiscriminación para poder acceder a la restitución de sus derechos, pues denunciaron que terminan siendo revictimizados por las instituciones por pertenecer a las disidencias sexuales. Juan Felipe Valencia también solicitó una política pública para esta subpoblación de víctimas y mayor participación en los espacios de poder. Los familiares y uniformados de la Fuerza Pública que han sido víctimas del conflicto armado también se pronunciaron en el pleno del Congreso. Y en conjunto pidieron ayuda a los congresistas para hacer incidencia en la JEP con el objetivo de que se abra un macro caso especial para ellos. “Como representantes de las víctimas de Fuerza Pública y Policía necesitamos ser escuchados”, dijo Lydia Iveth Florian, esposa de un miembro de la Fuerza Aérea asesinado. Por parte de estos hubo reclamos directos a la bancada de congresistas de Comunes, la mayoría de ellos exlíderes de las Farc. “No es justo que las Farc no nos dé la cara para decirnos donde están nuestros familiares”, dijo Olga Esperanza Rojas, asegurando sentirse burlada por parte de los desmovilizados, pues, a su juicio, no han contribuido a esclarecer la verdad y, mucho menos, a reconocer delitos perpetrados en el marco del conflicto. Como mensaje final, las víctimas pidieron que las escuchen más allá del 9 de abril, cuando se conmemora la fecha de la muerte de Jorge Eliécer Gaitán como fecha representativa para honrar a todas las víctimas de la guerra del país. “Estamos pasando por situaciones en las que la indemnización administrativa ha sido nefasta. Se ha convertido en ayuda humanitaria. Las víctimas hemos servido de vitrina en el ámbito internacional, pero en los territorios más lejanos no llega la presencia del Estado. Necesitamos compromiso social y responsabilidad de los congresistas. No necesitamos reconocimiento solo el 9 de abril, sino la materialización de nuestros derechos”, concluyó Sandra Castañeda. Las indirectas de Iván Duque a las propuestas de Petro En su discurso en Boyacá, el primer mandatario lanzó varias pullas en contra de la propuesta minera del candidato del Pacto Histórico, que ha señalado en su plan de gobierno que le pondría un coto a la minería a cielo abierto y revisaría las concesiones.  Sergio Fajardo: un estilo que otros quieren imitar El candidato fue alcalde de Medellín (2004-2007) y gobernador de Antioquia (2012 – 2015). En 2022 se postuló como presidente por la Coalición Centro Esperanza y ganó la consulta interpartidista con 723.475 votos. En El Hilo le contamos qué comunica con su ropa. Sergio Fajardo nació el 19 de junio de 1956 en Medellín. Es matemático de la Universidad de los Andes. Tiene un Ph.D. en Matemáticas de la Universidad de Wisconsin-Madison. Fue alcalde de Medellin (2004 - 2007) y gobernador de Antioquia (2012 – 2015). Recomendamos: Francia Márquez, ¿la irreverente?: así usó la moda para contar quién es En 2018 aspiró a la presidencia de Colombia y obtuvo más de 4.500.000 votos. En marzo de 2022 se convirtió en el candidato presidencial por la Coalición Centro Esperanza tras ganar la consulta interpartidista con 723.475 votos. Recomendamos: Jean levantacola: hecho en Colombia y un símbolo de la moda local Colombia: la paz con legalidad que transforma Columna de opinión del consejero Presidencial para la Estabilización y la Consolidación, Emilio José Archila. Con la certeza del deber cumplido, a cuatro meses de terminar su mandato, el presidente Iván Duque ha logrado- con los avances de la política de Paz con Legalidad – un escenario para que Colombia sea un mejor país, que los principios de equidad, igualdad y oportunidades sean irreversibles, y las futuras administraciones puedan construir sobre lo ya construido. Le puede interesar: Construir sobre lo ya construido: sin marcha atrás.  La Paz con Legalidad fue la ruta señalada en 2018 para implementar los Acuerdos e ir más allá, como ha ocurrido, en la solución de problemas anacrónicos, que envejecieron mal, en detrimento de la sociedad, y que debieron solucionarse hace décadas. El equipo de gobierno tuvo como ejes una planeación seria y de largo plazo, una manifestación política de cumplimiento y acciones que aseguran un proceso transformador irreversible. En su visita a Colombia en noviembre pasado, el secretario General de las Naciones Unidas, Antonio Guterres, reconoció los avances alcanzados pese a las dificultades del momento y a la huella de las violencias prolongadas, y destacó a Colombia como un modelo para el mundo en la construcción de paz. Los avances en la transformación, que ya son visibles y validados por las comunidades beneficiadas, se fundamentan en la ejecución del llamado “índice de Paz con Legalidad”: 1: Garantías políticas y jurídicas; 2. Víctimas y restitución de tierras; 3. Reincorporación; 4. Programas de Desarrollo con Enfoque Territorial; 5. Sustitución voluntaria de cultivos ilícitos; 6. Desarrollo rural integral; 7. Mujeres y género; 8. Enfoque étnico; 9. Desminado humanitario. >Lea más sobre las elecciones de 2022 y otras noticias del mundo político El Plan Marco de Implementación determina 516 indicadores de cumplimiento para los gobiernos de turno. En ese esfuerzo hemos trabajado sin descanso, pese al impacto generado por la pandemia del COVID-19 y a las dificultades propias de estos tiempos. Si miramos lo que se ha logrado en apoyo a las víctimas de la violencia, con reparaciones individuales o a las comunidades aquejadas en conjunto por los violentos, el apoyo a casi el 50% de los 13 mil excombatientes de las Farc y que hoy tienen un proyecto individual o colectivo, o el respaldo a casi 100 mil familias que ya no cultivan coca y están en la legalidad, puedo decir que hemos avanzado mucho más de lo que proporcionalmente nos correspondía. Hay 6,6 millones de colombianos que viven en las regiones más golpeadas por la violencia y la pobreza. Ocupan casi el 30% de la “Colombia dispersa”, los sitios más lejanos del millón 138 mil kilómetros cuadrados de nuestra superficie. A través de los Programas de Desarrollo con Enfoque Territorial (PDET), una gran herramienta de transformación rural, se invierten hoy en esas regiones más de $11,7 billones de pesos (USD 3.284 M), el equivalente al 70% de lo que cuesta la primera línea el metro de Bogotá. Es necesario hacer un reconocimiento al sector privado, a los empresarios, a las autoridades de todas las regiones, y en especial a la comunidad internacional. La cooperación internacional tuvo el tiempo de analizar el rumbo que le estábamos dando a la implementación. Después de consultarlo y estudiar lo logrado en todos los frentes, se han alineado con las políticas diseñadas por el gobierno del presidente Duque y, acorde con esas políticas, han ratificado políticamente y con recursos para la paz que este es el camino correcto para Colombia. En plena campaña electoral, algunos desconocen los avances en la implementación, cuando es claro entender que esa práctica no construye paz. Hoy, los verdaderos enemigos de la paz son los disidentes y narcotraficantes que atacan a los líderes sociales, a los excombatientes y a la fuerza pública, con una acción criminal que rechaza toda la sociedad. La violencia no tiene futuro. *Consejero Presidencial para la Estabilización y la Consolidación. Sobreviviendo con El Tigre María Rubí Tejada hace una remembranza de la masacre del 9 de enero de 1999 en El Tigre (Putumayo), departamento que sufrió siete masacres ese año. Colombia 1999 podría ser el título de la película que nunca se estrenó ese año, con opción al Óscar a mejor guion improvisado, por los diálogos de paz de San Vicente del Caguán, iniciados el 7 de enero con la guerrilla de las Farc. Esa generación del 64 que ya tenía, se podría decir, la estampa de 35 años mal vividos en el monte. Ese año nuevo la nación quería tomarse la píldora roja y no continuar con la azul para salirse de la Matrix de 51 años de violencia. Pero como decía el gran escritor y cronista español Francisco Umbral, todo año “es una corrida de 12 toros por delante”, y mientras en esa zona del Caquetá se distensionaban los ánimos y capoteaban intenciones, otra región se tensionaba con el primer banderillazo paramilitar que transformaba en terror la película colombiana, que podría rebautizarse con el nombre apocalíptico: Colombia 1999: Putumayo. Homenaje: Adiós a Jorge Mario Eastman Después de haber estado cerca de ser el primer pereirano presidente de la República, Jorge Mario Eastman fue desapareciendo de la escena política, para dedicarse de lleno a lo que siempre había sido: un intelectual, un hombre de letras, consagrado a los libros. Paz en su tumba. En nuestra juventud, muchos creímos que Jorge Mario Eastman iba a ser, tarde o temprano, el primer pereirano en llegar a la Presidencia de la República. Y claro que lo fue, pero como ministro delegatario, con funciones presidenciales, en el gobierno de Julio César Turbay Ayala (1978-1982). ¿Cómo -cabe preguntar- se quedó a mitad de camino? La respuesta parece obvia: porque el turbayismo, al que representaba en grado superlativo, fue vencido en las elecciones donde salió triunfante, en 1982, Belisario Betancur, quien dejó tendidos en la lona al presidente Turbay y su candidato reeleccionista, Alfonso López Michelsen. Desde entonces, Eastman fue desapareciendo de la escena política, para dedicarse de lleno a lo que siempre había sido: un intelectual, un hombre de letras, consagrado a los libros (entre los cuales nos legó su colección bibliográfica que lanzara y dirigiera como presidente de la Cámara de Representantes) y, por ende, un buen escritor y periodista, según dejó constancia en la dirección de la revista Consigna al lado del excanciller Carlos Lemos Simmonds. Así las cosas, creo que su carrera política, rumbo a la jefatura del Estado, se frustró ante todo por su vocación intelectual que, en un país como el nuestro durante las últimas décadas, es castigada en el plano electoral por la sencilla razón de que la cultura no da votos. En dichas circunstancias, poco tiempo se tardará en olvidar su nombre tras la muerte que acaba de doblegarlo en Bogotá, como por desgracia sucede de tiempo atrás con las más preclaras inteligencias nacionales. Apenas, a duras penas, acaso lo recordaremos sus amigos, colegas y paisanos, quienes alguna vez soñamos, en nuestra ya lejana juventud, con verlo ejercer la Presidencia de la República. ¡Paz en su tumba! >Lea más sobre las elecciones de 2022 y otras noticias del mundo político En Gobierno Duque se fortalecieron y expandieron grupos armados, según informe La Fundación Paz y Reconciliación presentó un documento que tituló “Plomo es lo que hay”, en el que advierte, entre otras, que en 420 municipios del país hay presencia de grupos armados organizados. Es decir, en el 37% del territorio nacional. A cuatro meses del cambio de gobierno, este viernes la Fundación Paz y Reconciliación (PARES) presentó un informe que analiza la situación de violencia y seguridad desde la firma del Acuerdo de Paz. En el documento se alerta que, desde agosto de 2018 –cuando asumió el Ejecutivo en cabeza de Iván Duque–, se han fortalecido y expandido al menos cuatro grupos armados organizados. Según la publicación, se trata del Clan del Golfo, que hace presencia en 241 municipios; la guerrilla del Eln, con incidencia en 183 poblaciones; las disidencias de Gentil Duarte, con presencia en 119 municipios, y la denominada Segunda Marquetalia, con influencia en 61 municipios. “La promesa de seguridad con la cual este gobierno ganó la Presidencia se desvaneció en esta nueva espiral de violencia”, alerta el informe, titulado “Plomo es lo que hay”, en referencia –explica PARES–, a una frase pronunciada por una persona simpatizante del partido de gobierno en medio de la marcha de rechazo al atentado realizado por el Eln a la Escuela de Cadetes General Santander en enero de 2019: “No se va a negociar, plomo es lo que hay, plomo es lo que viene”. De acuerdo con PARES, dicha declaración fue premonitoria, advirtiendo que “este fue el camino elegido por el gobierno de Iván Duque, así lo muestra la realidad de los territorios mayormente afectados por la guerra que hoy nuevamente transitan, en palabras del profesor Gutiérrez Sanín, un nuevo ciclo de violencia”. En esa línea, se indica que 2018 fue el año que más registró homicidios, víctimas de minas antipersonal y desplazamiento a nivel nacional desde la firma del Acuerdo, “en gran medida, producto de la agudización de las confrontaciones entre grupos armados organizados”. A partir de este año, la tasa de homicidios de los 281 municipios del posconflicto se distancia en más de 10 del promedio nacional. Por otro lado, se alerta que entre 2016 y 2022 se registraron 191 masacres en Colombia y que desde 2018 aumentaron exponencialmente. “El aumento más dramático ocurrió entre 2019 y 2020, en más del 300 %”. Asimismo, se advierte que desde 2016, Colombia ha ocupado consecutivamente el primer lugar con más homicidios contra personas defensoras de DD.HH. en América Latina. “En el año 2020 Front Line Defender aseguró que Colombia era el país con más homicidios en contra de esta población a nivel global”. Además, durante 2020, prácticamente en todo el territorio nacional hubo un aumento en los asesinatos contra líderes sociales. Solo en Cauca, reclama PARES, ocurrieron 61 hechos. A esta cifra le siguió Antioquia, con 29 casos, y Nariño, con 22. “Tras el desastre humanitario de 2020, en 2021 la violencia letal volvió a los niveles de 2018 y 2019, pero con dos diferencias: los grupos armados lograron consolidarse en el territorio y el miedo se apoderó de los procesos sociales en múltiples regiones del país”. El informe sostiene también que, aunque no se reconocen presuntos perpetradores en la mayor parte de homicidios contra líderes sociales, las disidencias son las principales responsables de ataques, con por lo menos 60 casos. Le sigue el Clan del Golfo, con 33 casos y el ELN con 24. “Llama la atención que, presuntamente, la Fuerza Pública sería responsable de 16 asesinatos contra esta población”, reclaman. Por último, con base en cifras del Ministerio de Defensa, se explica que en 2020 los casos de secuestro, terrorismo, atentados a infraestructura crítica y las acciones subversivas aumentaron con respecto a años anteriores. El caso más dramático es el de las acciones terroristas que pasaron de 208 en 2019 a 405 en 2020. El detalle del informe La primera parte del informe destaca que, desde el inicio de la fase pública de negociaciones entre el Estado y las Farc-EP durante 2012 a 2016, “el país experimentó una disminución continua en la tasa de homicidios de nivel general”. Sin embargo, se alerta que en el primer año tras la firma (2017), se empezó a evidenciar “la debilidad estructural del Estado” para hacerse al control territorial de zonas donde las Farc administraban justicia y seguridad. “Ante la incapacidad del Estado de construir un plan de acción inmediato para copar este vacío de poder, distintos actores armados presentes en el territorio u otros en proceso de configuración iniciaron su expansión para hacerse al botín dejado por la antigua guerrilla”, dice el informe. Por otro lado, entre 2018 y 2020, en lo que PARES denomina la segunda etapa del posconflicto, se llama la atención por “un pico en materia de violencia letal en los municipios mayormente afectados por la guerra”. En solo dos años, señalan, la tasa de homicidios pasó de 27 a 39,8, mientras que en el nivel nacional el aumento fue de alrededor de 1,5. “La brecha entre la tasa de homicidios nacional y la tasa de los municipios del posconflicto se incrementó de manera vertiginosa principalmente por el estallido de las disputas que se preparaban desde el año anterior: Eln vs Epl (Norte de Santander); Eln vs Clan del Golfo (Antioquia, Chocó, Nariño, Cúcuta); ELN vs Grupos Armados postfarc o Disidencias (Cauca, Nariño y Arauca) y Clan del Golfo vs Caparros (Antioquia). El documento indica que la llegada de la pandemia por cuenta del COVID-19, que implicó la restricción de la movilidad, produjo “un efecto de aceleración” en el fortalecimiento de los Grupos Armados Organizados. “La institucionalidad local (autoridades administrativas y de justicia) obedeciendo disposiciones normativas del nivel nacional debieron replegarse a su mínima expresión, mientras que las Fuerzas Militares aumentaron sus operaciones principalmente en materia de erradicación forzada y combatiendo al ELN y a las disidencias”. No obstante, se alerta que, pese al amplio despliegue de la Fuerza Pública, los homicidios disminuyeron muy poco. “En los dos niveles territoriales de análisis la tasa de homicidios disminuyó solo un caso con respecto del año 2019. La tasa nacional de 2020 fue de 22,48 y la de los municipios del posconflicto 38, 49, ambas por cada 100.000 habitantes”. En ese sentido, aunque se señala que el Ministerio de Defensa mostró cifras históricas en materia de capturas de miembros de organizaciones criminales, de erradicación forzada y de incautación de cocaína para 2020, los grupos armados organizados se expandieron y fortalecieron su control territorial: “La producción potencial de cocaína para el año 2020 aumentó y, aunque la Oficina de Naciones Unidas Contra la Droga y el Delito UNODC presentó una relativa disminución de 10.000 hectáreas de coca cultivadas con respecto de 2019, la Casa Blanca planteó un aumento de 33.000 hectáreas llegando a la alarmante cifra de 245.000 hectáreas de coca en el país”. Ante ello, PARES cuestiona: “¿por qué el Gobierno Nacional no está evaluando eficacia de operaciones de la Fuerza Pública sino cantidad?, ¿por qué no ha tomado medidas estructurales frente a las graves denuncias de participación de miembros de las Fuerzas Militares en actividades criminales con el Clan del Golfo?, ¿Tiene relación la obstrucción de las audiencias de Otoniel con la Comisión de la Verdad y la fuga de alias Matamba en este entramado criminal?, ¿Existe algún interés político en el negocio del narcotráfico, en el ocultamiento de las posibles relaciones entre Fuerza Pública y Clan del Golfo y en deterioro de la seguridad del país?”. De acuerdo con el informe, Colombia atravesó un proceso de optimización de la producción de clorhidrato de cocaína de la mano de los carteles mexicanos. “Hoy puede producirse más cocaína con menos hectáreas de coca”. En ese sentido, con base en cifras de Naciones Unidas, señalan que en el 92% de hectáreas de coca que han sido erradicadas de manera forzada hay resiembra, mientras que, en el caso de la sustitución de cultivos pactada en el Acuerdo, la resiembra llega solamente al 0.8%. Actualmente, se estima que cuatro departamentos concentran el 70% de la coca: Norte de Santander, Nariño, Putumayo y Cauca. Tibú es el municipio que concentra más coca a nivel nacional. Por otro lado, en el caso de la minería ilegal, PARES dice que “existe una gran concentración de evidencia de explotación de oro de aluvión (EVOA) en zonas de operación de grupos armados como el Clan del Golfo y el ELN. Esta economía ilegal representa a su vez un potencial riesgo ambiental debido a su desarrollo en espacios destinados a la protección de recursos naturales”. Adicionalmente, se prenden las alerta por un aumento significativo en la deforestación, siendo la Amazonía una víctima ambiental del posconflicto, con 612.300 hectáreas deforestadas entre 2016 y 2020. Finalmente, el último apartado del informe, que registra acciones de 2021, evidencia una consolidación del Clan del Golfo, el Eln, las disidencias de Gentil Duarte y la Segunda Marquetalia. Se llama la atención por el incremento de acciones contra la Fuerza Pública, especialmente por parte del Eln y disidencias. En esa línea se reprocha que, pese a que el presidente Duque y su partido político “dicen ser los principales abanderados de la defensa de la Fuerza Pública, lo cierto es que los escándalos por violaciones a Derechos Humanos, por connivencia con el Clan del Golfo y el aumento de sus bajas dan cuenta de la poca importancia que le dan a la legitimidad de esta institución y a la vida de sus integrantes de base”. “No todo está perdido. El Acuerdo de Paz trajo consigo el desarme de poco más de 13.000 combatientes de las Farc-EP y una hoja de ruta para asumir las deudas del Estado y la sociedad colombiana con quienes han sido excluidos y excluidas de la participación política, social, económica y cultural. Al final, como en el mito de Pandora, después de liberados de la caja todos los males del mundo, estando al borde del aniquilamiento, en el fondo se encuentra la esperanza”, concluye el informe. Así respondió Francia Márquez a comentario de ser “acompañada” por el Eln Juan Diego Gómez, presidente del Congreso, dijo que el Eln “acompañaba” a Francia Márquez, fórmula vicepresidencial del candidato Gustavo Petro. “Las antiguas Farc y las disidencias celebran su campaña”, fue el mensaje con el que estigmatizó, sin fundamento, a la candidata. '"
      ]
     },
     "execution_count": 10,
     "metadata": {},
     "output_type": "execute_result"
    }
   ],
   "source": [
    "text"
   ]
  },
  {
   "cell_type": "code",
   "execution_count": 11,
   "metadata": {},
   "outputs": [],
   "source": [
    "# Word tokenization\n",
    "words = word_tokenize(text)"
   ]
  },
  {
   "cell_type": "code",
   "execution_count": 12,
   "metadata": {},
   "outputs": [
    {
     "data": {
      "text/plain": [
       "['Reforma',\n",
       " 'rural',\n",
       " ',',\n",
       " 'apertura',\n",
       " 'de',\n",
       " 'macro',\n",
       " 'casos',\n",
       " ':',\n",
       " 'las',\n",
       " 'peticiones']"
      ]
     },
     "execution_count": 12,
     "metadata": {},
     "output_type": "execute_result"
    }
   ],
   "source": [
    "words[:10]"
   ]
  },
  {
   "cell_type": "code",
   "execution_count": 13,
   "metadata": {},
   "outputs": [],
   "source": [
    "# Words distribution\n",
    "frec_dist = FreqDist(words)"
   ]
  },
  {
   "cell_type": "code",
   "execution_count": 14,
   "metadata": {},
   "outputs": [
    {
     "data": {
      "text/plain": [
       "[('de', 296),\n",
       " (',', 265),\n",
       " ('la', 171),\n",
       " ('.', 130),\n",
       " ('en', 121),\n",
       " ('y', 109),\n",
       " ('que', 104),\n",
       " ('el', 101),\n",
       " ('a', 82),\n",
       " ('del', 79)]"
      ]
     },
     "execution_count": 14,
     "metadata": {},
     "output_type": "execute_result"
    }
   ],
   "source": [
    "# Printing the most common words\n",
    "frec_dist.most_common(10)"
   ]
  },
  {
   "cell_type": "code",
   "execution_count": 15,
   "metadata": {},
   "outputs": [],
   "source": [
    "# Stop words\n",
    "# Stop words are basically a set of commonly used words in any language, not just English.\n",
    "# The reason why stop words are critical to many applications is that, if we remove the words that are very commonly used in a given language, we can focus on the important words instead.\n",
    "\n",
    "stop_words = set(stopwords.words(\"spanish\"))"
   ]
  },
  {
   "cell_type": "code",
   "execution_count": 16,
   "metadata": {},
   "outputs": [
    {
     "data": {
      "text/plain": [
       "{'a',\n",
       " 'al',\n",
       " 'algo',\n",
       " 'algunas',\n",
       " 'algunos',\n",
       " 'ante',\n",
       " 'antes',\n",
       " 'como',\n",
       " 'con',\n",
       " 'contra',\n",
       " 'cual',\n",
       " 'cuando',\n",
       " 'de',\n",
       " 'del',\n",
       " 'desde',\n",
       " 'donde',\n",
       " 'durante',\n",
       " 'e',\n",
       " 'el',\n",
       " 'ella',\n",
       " 'ellas',\n",
       " 'ellos',\n",
       " 'en',\n",
       " 'entre',\n",
       " 'era',\n",
       " 'erais',\n",
       " 'eran',\n",
       " 'eras',\n",
       " 'eres',\n",
       " 'es',\n",
       " 'esa',\n",
       " 'esas',\n",
       " 'ese',\n",
       " 'eso',\n",
       " 'esos',\n",
       " 'esta',\n",
       " 'estaba',\n",
       " 'estabais',\n",
       " 'estaban',\n",
       " 'estabas',\n",
       " 'estad',\n",
       " 'estada',\n",
       " 'estadas',\n",
       " 'estado',\n",
       " 'estados',\n",
       " 'estamos',\n",
       " 'estando',\n",
       " 'estar',\n",
       " 'estaremos',\n",
       " 'estará',\n",
       " 'estarán',\n",
       " 'estarás',\n",
       " 'estaré',\n",
       " 'estaréis',\n",
       " 'estaría',\n",
       " 'estaríais',\n",
       " 'estaríamos',\n",
       " 'estarían',\n",
       " 'estarías',\n",
       " 'estas',\n",
       " 'este',\n",
       " 'estemos',\n",
       " 'esto',\n",
       " 'estos',\n",
       " 'estoy',\n",
       " 'estuve',\n",
       " 'estuviera',\n",
       " 'estuvierais',\n",
       " 'estuvieran',\n",
       " 'estuvieras',\n",
       " 'estuvieron',\n",
       " 'estuviese',\n",
       " 'estuvieseis',\n",
       " 'estuviesen',\n",
       " 'estuvieses',\n",
       " 'estuvimos',\n",
       " 'estuviste',\n",
       " 'estuvisteis',\n",
       " 'estuviéramos',\n",
       " 'estuviésemos',\n",
       " 'estuvo',\n",
       " 'está',\n",
       " 'estábamos',\n",
       " 'estáis',\n",
       " 'están',\n",
       " 'estás',\n",
       " 'esté',\n",
       " 'estéis',\n",
       " 'estén',\n",
       " 'estés',\n",
       " 'fue',\n",
       " 'fuera',\n",
       " 'fuerais',\n",
       " 'fueran',\n",
       " 'fueras',\n",
       " 'fueron',\n",
       " 'fuese',\n",
       " 'fueseis',\n",
       " 'fuesen',\n",
       " 'fueses',\n",
       " 'fui',\n",
       " 'fuimos',\n",
       " 'fuiste',\n",
       " 'fuisteis',\n",
       " 'fuéramos',\n",
       " 'fuésemos',\n",
       " 'ha',\n",
       " 'habida',\n",
       " 'habidas',\n",
       " 'habido',\n",
       " 'habidos',\n",
       " 'habiendo',\n",
       " 'habremos',\n",
       " 'habrá',\n",
       " 'habrán',\n",
       " 'habrás',\n",
       " 'habré',\n",
       " 'habréis',\n",
       " 'habría',\n",
       " 'habríais',\n",
       " 'habríamos',\n",
       " 'habrían',\n",
       " 'habrías',\n",
       " 'habéis',\n",
       " 'había',\n",
       " 'habíais',\n",
       " 'habíamos',\n",
       " 'habían',\n",
       " 'habías',\n",
       " 'han',\n",
       " 'has',\n",
       " 'hasta',\n",
       " 'hay',\n",
       " 'haya',\n",
       " 'hayamos',\n",
       " 'hayan',\n",
       " 'hayas',\n",
       " 'hayáis',\n",
       " 'he',\n",
       " 'hemos',\n",
       " 'hube',\n",
       " 'hubiera',\n",
       " 'hubierais',\n",
       " 'hubieran',\n",
       " 'hubieras',\n",
       " 'hubieron',\n",
       " 'hubiese',\n",
       " 'hubieseis',\n",
       " 'hubiesen',\n",
       " 'hubieses',\n",
       " 'hubimos',\n",
       " 'hubiste',\n",
       " 'hubisteis',\n",
       " 'hubiéramos',\n",
       " 'hubiésemos',\n",
       " 'hubo',\n",
       " 'la',\n",
       " 'las',\n",
       " 'le',\n",
       " 'les',\n",
       " 'lo',\n",
       " 'los',\n",
       " 'me',\n",
       " 'mi',\n",
       " 'mis',\n",
       " 'mucho',\n",
       " 'muchos',\n",
       " 'muy',\n",
       " 'más',\n",
       " 'mí',\n",
       " 'mía',\n",
       " 'mías',\n",
       " 'mío',\n",
       " 'míos',\n",
       " 'nada',\n",
       " 'ni',\n",
       " 'no',\n",
       " 'nos',\n",
       " 'nosotras',\n",
       " 'nosotros',\n",
       " 'nuestra',\n",
       " 'nuestras',\n",
       " 'nuestro',\n",
       " 'nuestros',\n",
       " 'o',\n",
       " 'os',\n",
       " 'otra',\n",
       " 'otras',\n",
       " 'otro',\n",
       " 'otros',\n",
       " 'para',\n",
       " 'pero',\n",
       " 'poco',\n",
       " 'por',\n",
       " 'porque',\n",
       " 'que',\n",
       " 'quien',\n",
       " 'quienes',\n",
       " 'qué',\n",
       " 'se',\n",
       " 'sea',\n",
       " 'seamos',\n",
       " 'sean',\n",
       " 'seas',\n",
       " 'sentid',\n",
       " 'sentida',\n",
       " 'sentidas',\n",
       " 'sentido',\n",
       " 'sentidos',\n",
       " 'seremos',\n",
       " 'será',\n",
       " 'serán',\n",
       " 'serás',\n",
       " 'seré',\n",
       " 'seréis',\n",
       " 'sería',\n",
       " 'seríais',\n",
       " 'seríamos',\n",
       " 'serían',\n",
       " 'serías',\n",
       " 'seáis',\n",
       " 'siente',\n",
       " 'sin',\n",
       " 'sintiendo',\n",
       " 'sobre',\n",
       " 'sois',\n",
       " 'somos',\n",
       " 'son',\n",
       " 'soy',\n",
       " 'su',\n",
       " 'sus',\n",
       " 'suya',\n",
       " 'suyas',\n",
       " 'suyo',\n",
       " 'suyos',\n",
       " 'sí',\n",
       " 'también',\n",
       " 'tanto',\n",
       " 'te',\n",
       " 'tendremos',\n",
       " 'tendrá',\n",
       " 'tendrán',\n",
       " 'tendrás',\n",
       " 'tendré',\n",
       " 'tendréis',\n",
       " 'tendría',\n",
       " 'tendríais',\n",
       " 'tendríamos',\n",
       " 'tendrían',\n",
       " 'tendrías',\n",
       " 'tened',\n",
       " 'tenemos',\n",
       " 'tenga',\n",
       " 'tengamos',\n",
       " 'tengan',\n",
       " 'tengas',\n",
       " 'tengo',\n",
       " 'tengáis',\n",
       " 'tenida',\n",
       " 'tenidas',\n",
       " 'tenido',\n",
       " 'tenidos',\n",
       " 'teniendo',\n",
       " 'tenéis',\n",
       " 'tenía',\n",
       " 'teníais',\n",
       " 'teníamos',\n",
       " 'tenían',\n",
       " 'tenías',\n",
       " 'ti',\n",
       " 'tiene',\n",
       " 'tienen',\n",
       " 'tienes',\n",
       " 'todo',\n",
       " 'todos',\n",
       " 'tu',\n",
       " 'tus',\n",
       " 'tuve',\n",
       " 'tuviera',\n",
       " 'tuvierais',\n",
       " 'tuvieran',\n",
       " 'tuvieras',\n",
       " 'tuvieron',\n",
       " 'tuviese',\n",
       " 'tuvieseis',\n",
       " 'tuviesen',\n",
       " 'tuvieses',\n",
       " 'tuvimos',\n",
       " 'tuviste',\n",
       " 'tuvisteis',\n",
       " 'tuviéramos',\n",
       " 'tuviésemos',\n",
       " 'tuvo',\n",
       " 'tuya',\n",
       " 'tuyas',\n",
       " 'tuyo',\n",
       " 'tuyos',\n",
       " 'tú',\n",
       " 'un',\n",
       " 'una',\n",
       " 'uno',\n",
       " 'unos',\n",
       " 'vosostras',\n",
       " 'vosostros',\n",
       " 'vuestra',\n",
       " 'vuestras',\n",
       " 'vuestro',\n",
       " 'vuestros',\n",
       " 'y',\n",
       " 'ya',\n",
       " 'yo',\n",
       " 'él',\n",
       " 'éramos'}"
      ]
     },
     "execution_count": 16,
     "metadata": {},
     "output_type": "execute_result"
    }
   ],
   "source": [
    "stop_words"
   ]
  },
  {
   "cell_type": "code",
   "execution_count": 17,
   "metadata": {},
   "outputs": [],
   "source": [
    "# Removing stop words\n",
    "filtered_words = []\n",
    "\n",
    "for w in words:\n",
    "    if w.lower() not in stop_words:\n",
    "        filtered_words.append(w)"
   ]
  },
  {
   "cell_type": "code",
   "execution_count": 18,
   "metadata": {},
   "outputs": [],
   "source": [
    "# Words distribution for text without stopwords\n",
    "frec_dist_filtered = FreqDist(filtered_words)"
   ]
  },
  {
   "cell_type": "code",
   "execution_count": 19,
   "metadata": {},
   "outputs": [
    {
     "data": {
      "text/plain": [
       "[(',', 265),\n",
       " ('.', 130),\n",
       " ('“', 35),\n",
       " ('”', 35),\n",
       " (':', 26),\n",
       " ('víctimas', 20),\n",
       " ('(', 19),\n",
       " (')', 18),\n",
       " ('Colombia', 15),\n",
       " (';', 12)]"
      ]
     },
     "execution_count": 19,
     "metadata": {},
     "output_type": "execute_result"
    }
   ],
   "source": [
    "# Printing the most common words\n",
    "frec_dist_filtered.most_common(10)"
   ]
  },
  {
   "cell_type": "code",
   "execution_count": null,
   "metadata": {},
   "outputs": [],
   "source": [
    "# Plotting a bar char for frecuencies\n",
    "n = 10\n",
    "\n",
    "plt.figure(figsize = (15, 8))\n",
    "plt.barh([ w[0] for w in frec_dist_filtered.most_common(n) ], [ w[1] for w in frec_dist_filtered.most_common(n) ])\n",
    "plt.gca().invert_yaxis()"
   ]
  },
  {
   "cell_type": "code",
   "execution_count": null,
   "metadata": {},
   "outputs": [],
   "source": [
    "# Creating the wordcloud\n",
    "# Word size is directly related to frecuency\n",
    "wordcloud = WordCloud(max_font_size = 50, max_words = 100, background_color = \"white\").generate(text)\n",
    "\n",
    "plt.figure(figsize = (10, 10))\n",
    "plt.imshow(wordcloud, interpolation = \"bilinear\")\n",
    "plt.axis(\"off\")\n",
    "plt.show()"
   ]
  },
  {
   "cell_type": "code",
   "execution_count": null,
   "metadata": {},
   "outputs": [],
   "source": [
    "# Creating the wordcloud without stopwords\n",
    "# Word size is directly related to frecuency\n",
    "wordcloud = WordCloud(max_font_size = 50, max_words = 100, background_color = \"white\").generate(\" \".join(filtered_words))\n",
    "\n",
    "plt.figure(figsize = (10, 10))\n",
    "plt.imshow(wordcloud, interpolation = \"bilinear\")\n",
    "plt.axis(\"off\")\n",
    "plt.show()"
   ]
  },
  {
   "cell_type": "code",
   "execution_count": null,
   "metadata": {},
   "outputs": [],
   "source": [
    "# Part of Speech (PoS)\n",
    "# Model optimized for spanish: https://nlp.stanford.edu/software/\n",
    "pos_tagger = StanfordPOSTagger(model, jar, encoding = \"utf8\")\n",
    "pos_tags = pos_tagger.tag(filtered_words)"
   ]
  },
  {
   "cell_type": "code",
   "execution_count": null,
   "metadata": {},
   "outputs": [],
   "source": [
    "pos_tags.sort(key = lambda tup: tup[1])\n",
    "pos_tags"
   ]
  },
  {
   "cell_type": "code",
   "execution_count": null,
   "metadata": {},
   "outputs": [],
   "source": [
    "len(pos_tags)"
   ]
  },
  {
   "cell_type": "code",
   "execution_count": null,
   "metadata": {},
   "outputs": [],
   "source": [
    "pos_tags[-100:]"
   ]
  },
  {
   "cell_type": "code",
   "execution_count": null,
   "metadata": {},
   "outputs": [],
   "source": [
    "# Named Entity Recognition (NER)\n",
    "document = nlp(text)\n",
    "displacy.render(document, style = \"ent\")"
   ]
  },
  {
   "cell_type": "code",
   "execution_count": null,
   "metadata": {},
   "outputs": [],
   "source": []
  }
 ],
 "metadata": {
  "kernelspec": {
   "display_name": "Python 3 (ipykernel)",
   "language": "python",
   "name": "python3"
  },
  "language_info": {
   "codemirror_mode": {
    "name": "ipython",
    "version": 3
   },
   "file_extension": ".py",
   "mimetype": "text/x-python",
   "name": "python",
   "nbconvert_exporter": "python",
   "pygments_lexer": "ipython3",
   "version": "3.9.7"
  }
 },
 "nbformat": 4,
 "nbformat_minor": 4
}
